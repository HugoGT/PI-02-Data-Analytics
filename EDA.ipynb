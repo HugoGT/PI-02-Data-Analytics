{
 "cells": [
  {
   "attachments": {},
   "cell_type": "markdown",
   "metadata": {},
   "source": [
    "# Análisis exploratorio de datos de MOOCs"
   ]
  },
  {
   "attachments": {},
   "cell_type": "markdown",
   "metadata": {},
   "source": [
    "En este notebook exploraremos 4 datasets provistos que contienen información acerca de los MOOCs(Massive online open courses), en la exploración de datos trataremos de encotrar relaciones entre sus variables. Y después al final se exportará la data para posteriormente armar un dashboard."
   ]
  },
  {
   "cell_type": "code",
   "execution_count": 2,
   "metadata": {},
   "outputs": [],
   "source": [
    "# Imports necesarios para el EDA\n",
    "import matplotlib.pyplot as plt\n",
    "import numpy as np\n",
    "import pandas as pd"
   ]
  },
  {
   "attachments": {},
   "cell_type": "markdown",
   "metadata": {},
   "source": [
    "Cargamos la información"
   ]
  },
  {
   "cell_type": "code",
   "execution_count": 3,
   "metadata": {},
   "outputs": [],
   "source": [
    "edx_df = pd.read_csv('data/edx_courses.csv')\n",
    "udemy_df = pd.read_csv('data/udemy_courses.csv')\n",
    "coursera_df = pd.read_csv('data/coursera_courses.csv')"
   ]
  },
  {
   "cell_type": "code",
   "execution_count": 4,
   "metadata": {},
   "outputs": [],
   "source": [
    "reviews = pd.read_csv('data/coursera_reviews.csv')"
   ]
  },
  {
   "attachments": {},
   "cell_type": "markdown",
   "metadata": {},
   "source": [
    "Antes de hacer un análisis de los datos los exploraremos y haremos una pequeña limpieza de ser necesario"
   ]
  },
  {
   "attachments": {},
   "cell_type": "markdown",
   "metadata": {},
   "source": [
    "## Explorando edx"
   ]
  },
  {
   "cell_type": "code",
   "execution_count": 5,
   "metadata": {},
   "outputs": [
    {
     "data": {
      "text/html": [
       "<div>\n",
       "<style scoped>\n",
       "    .dataframe tbody tr th:only-of-type {\n",
       "        vertical-align: middle;\n",
       "    }\n",
       "\n",
       "    .dataframe tbody tr th {\n",
       "        vertical-align: top;\n",
       "    }\n",
       "\n",
       "    .dataframe thead th {\n",
       "        text-align: right;\n",
       "    }\n",
       "</style>\n",
       "<table border=\"1\" class=\"dataframe\">\n",
       "  <thead>\n",
       "    <tr style=\"text-align: right;\">\n",
       "      <th></th>\n",
       "      <th>title</th>\n",
       "      <th>summary</th>\n",
       "      <th>n_enrolled</th>\n",
       "      <th>course_type</th>\n",
       "      <th>institution</th>\n",
       "      <th>instructors</th>\n",
       "      <th>Level</th>\n",
       "      <th>subject</th>\n",
       "      <th>language</th>\n",
       "      <th>subtitles</th>\n",
       "      <th>course_effort</th>\n",
       "      <th>course_length</th>\n",
       "      <th>price</th>\n",
       "      <th>course_description</th>\n",
       "      <th>course_syllabus</th>\n",
       "      <th>course_url</th>\n",
       "    </tr>\n",
       "  </thead>\n",
       "  <tbody>\n",
       "    <tr>\n",
       "      <th>0</th>\n",
       "      <td>How to Learn Online</td>\n",
       "      <td>Learn essential strategies for successful onli...</td>\n",
       "      <td>124,980</td>\n",
       "      <td>Self-paced on your time</td>\n",
       "      <td>edX</td>\n",
       "      <td>Nina Huntemann-Robyn Belair-Ben Piscopo</td>\n",
       "      <td>Introductory</td>\n",
       "      <td>Education &amp; Teacher Training</td>\n",
       "      <td>English</td>\n",
       "      <td>English</td>\n",
       "      <td>2–3 hours per week</td>\n",
       "      <td>2 Weeks</td>\n",
       "      <td>FREE-Add a Verified Certificate for $49 USD</td>\n",
       "      <td>Designed for those who are new to elearning, t...</td>\n",
       "      <td>Welcome - We start with opportunities to meet ...</td>\n",
       "      <td>https://www.edx.org/course/how-to-learn-online</td>\n",
       "    </tr>\n",
       "    <tr>\n",
       "      <th>1</th>\n",
       "      <td>Programming for Everybody (Getting Started wit...</td>\n",
       "      <td>This course is a \"no prerequisite\" introductio...</td>\n",
       "      <td>293,864</td>\n",
       "      <td>Self-paced on your time</td>\n",
       "      <td>The University of Michigan</td>\n",
       "      <td>Charles Severance</td>\n",
       "      <td>Introductory</td>\n",
       "      <td>Computer Science</td>\n",
       "      <td>English</td>\n",
       "      <td>English</td>\n",
       "      <td>2–4 hours per week</td>\n",
       "      <td>7 Weeks</td>\n",
       "      <td>FREE-Add a Verified Certificate for $49 USD</td>\n",
       "      <td>This course aims to teach everyone the basics ...</td>\n",
       "      <td>NaN</td>\n",
       "      <td>https://www.edx.org/course/programming-for-eve...</td>\n",
       "    </tr>\n",
       "    <tr>\n",
       "      <th>2</th>\n",
       "      <td>CS50's Introduction to Computer Science</td>\n",
       "      <td>An introduction to the intellectual enterprise...</td>\n",
       "      <td>2,442,271</td>\n",
       "      <td>Self-paced on your time</td>\n",
       "      <td>Harvard University</td>\n",
       "      <td>David J. Malan-Doug Lloyd-Brian Yu</td>\n",
       "      <td>Introductory</td>\n",
       "      <td>Computer Science</td>\n",
       "      <td>English</td>\n",
       "      <td>English</td>\n",
       "      <td>6–18 hours per week</td>\n",
       "      <td>12 Weeks</td>\n",
       "      <td>FREE-Add a Verified Certificate for $90 USD</td>\n",
       "      <td>This is CS50x , Harvard University's introduct...</td>\n",
       "      <td>NaN</td>\n",
       "      <td>https://www.edx.org/course/cs50s-introduction-...</td>\n",
       "    </tr>\n",
       "    <tr>\n",
       "      <th>3</th>\n",
       "      <td>The Analytics Edge</td>\n",
       "      <td>Through inspiring examples and stories, discov...</td>\n",
       "      <td>129,555</td>\n",
       "      <td>Instructor-led on a course schedule</td>\n",
       "      <td>Massachusetts Institute of Technology</td>\n",
       "      <td>Dimitris Bertsimas-Allison O'Hair-John Silberh...</td>\n",
       "      <td>Intermediate</td>\n",
       "      <td>Data Analysis &amp; Statistics</td>\n",
       "      <td>English</td>\n",
       "      <td>English</td>\n",
       "      <td>10–15 hours per week</td>\n",
       "      <td>13 Weeks</td>\n",
       "      <td>FREE-Add a Verified Certificate for $199 USD</td>\n",
       "      <td>In the last decade, the amount of data availab...</td>\n",
       "      <td>NaN</td>\n",
       "      <td>https://www.edx.org/course/the-analytics-edge</td>\n",
       "    </tr>\n",
       "    <tr>\n",
       "      <th>4</th>\n",
       "      <td>Marketing Analytics: Marketing Measurement Str...</td>\n",
       "      <td>This course is part of a MicroMasters® Program</td>\n",
       "      <td>81,140</td>\n",
       "      <td>Self-paced on your time</td>\n",
       "      <td>University of California, Berkeley</td>\n",
       "      <td>Stephan Sorger</td>\n",
       "      <td>Introductory</td>\n",
       "      <td>Computer Science</td>\n",
       "      <td>English</td>\n",
       "      <td>English</td>\n",
       "      <td>5–7 hours per week</td>\n",
       "      <td>4 Weeks</td>\n",
       "      <td>FREE-Add a Verified Certificate for $249 USD</td>\n",
       "      <td>Begin your journey in a new career in marketin...</td>\n",
       "      <td>NaN</td>\n",
       "      <td>https://www.edx.org/course/marketing-analytics...</td>\n",
       "    </tr>\n",
       "  </tbody>\n",
       "</table>\n",
       "</div>"
      ],
      "text/plain": [
       "                                               title  \\\n",
       "0                                How to Learn Online   \n",
       "1  Programming for Everybody (Getting Started wit...   \n",
       "2            CS50's Introduction to Computer Science   \n",
       "3                                 The Analytics Edge   \n",
       "4  Marketing Analytics: Marketing Measurement Str...   \n",
       "\n",
       "                                             summary n_enrolled  \\\n",
       "0  Learn essential strategies for successful onli...    124,980   \n",
       "1  This course is a \"no prerequisite\" introductio...    293,864   \n",
       "2  An introduction to the intellectual enterprise...  2,442,271   \n",
       "3  Through inspiring examples and stories, discov...    129,555   \n",
       "4     This course is part of a MicroMasters® Program     81,140   \n",
       "\n",
       "                           course_type                            institution  \\\n",
       "0              Self-paced on your time                                    edX   \n",
       "1              Self-paced on your time             The University of Michigan   \n",
       "2              Self-paced on your time                     Harvard University   \n",
       "3  Instructor-led on a course schedule  Massachusetts Institute of Technology   \n",
       "4              Self-paced on your time     University of California, Berkeley   \n",
       "\n",
       "                                         instructors         Level  \\\n",
       "0            Nina Huntemann-Robyn Belair-Ben Piscopo  Introductory   \n",
       "1                                  Charles Severance  Introductory   \n",
       "2                 David J. Malan-Doug Lloyd-Brian Yu  Introductory   \n",
       "3  Dimitris Bertsimas-Allison O'Hair-John Silberh...  Intermediate   \n",
       "4                                     Stephan Sorger  Introductory   \n",
       "\n",
       "                        subject language subtitles         course_effort  \\\n",
       "0  Education & Teacher Training  English   English    2–3 hours per week   \n",
       "1              Computer Science  English   English    2–4 hours per week   \n",
       "2              Computer Science  English   English   6–18 hours per week   \n",
       "3    Data Analysis & Statistics  English   English  10–15 hours per week   \n",
       "4              Computer Science  English   English    5–7 hours per week   \n",
       "\n",
       "  course_length                                         price  \\\n",
       "0       2 Weeks   FREE-Add a Verified Certificate for $49 USD   \n",
       "1       7 Weeks   FREE-Add a Verified Certificate for $49 USD   \n",
       "2      12 Weeks   FREE-Add a Verified Certificate for $90 USD   \n",
       "3      13 Weeks  FREE-Add a Verified Certificate for $199 USD   \n",
       "4       4 Weeks  FREE-Add a Verified Certificate for $249 USD   \n",
       "\n",
       "                                  course_description  \\\n",
       "0  Designed for those who are new to elearning, t...   \n",
       "1  This course aims to teach everyone the basics ...   \n",
       "2  This is CS50x , Harvard University's introduct...   \n",
       "3  In the last decade, the amount of data availab...   \n",
       "4  Begin your journey in a new career in marketin...   \n",
       "\n",
       "                                     course_syllabus  \\\n",
       "0  Welcome - We start with opportunities to meet ...   \n",
       "1                                                NaN   \n",
       "2                                                NaN   \n",
       "3                                                NaN   \n",
       "4                                                NaN   \n",
       "\n",
       "                                          course_url  \n",
       "0     https://www.edx.org/course/how-to-learn-online  \n",
       "1  https://www.edx.org/course/programming-for-eve...  \n",
       "2  https://www.edx.org/course/cs50s-introduction-...  \n",
       "3      https://www.edx.org/course/the-analytics-edge  \n",
       "4  https://www.edx.org/course/marketing-analytics...  "
      ]
     },
     "execution_count": 5,
     "metadata": {},
     "output_type": "execute_result"
    }
   ],
   "source": [
    "edx_df.head(5)"
   ]
  },
  {
   "cell_type": "code",
   "execution_count": 6,
   "metadata": {},
   "outputs": [
    {
     "name": "stdout",
     "output_type": "stream",
     "text": [
      "<class 'pandas.core.frame.DataFrame'>\n",
      "RangeIndex: 975 entries, 0 to 974\n",
      "Data columns (total 16 columns):\n",
      " #   Column              Non-Null Count  Dtype \n",
      "---  ------              --------------  ----- \n",
      " 0   title               975 non-null    object\n",
      " 1   summary             922 non-null    object\n",
      " 2   n_enrolled          855 non-null    object\n",
      " 3   course_type         975 non-null    object\n",
      " 4   institution         975 non-null    object\n",
      " 5   instructors         972 non-null    object\n",
      " 6   Level               975 non-null    object\n",
      " 7   subject             975 non-null    object\n",
      " 8   language            975 non-null    object\n",
      " 9   subtitles           972 non-null    object\n",
      " 10  course_effort       975 non-null    object\n",
      " 11  course_length       975 non-null    object\n",
      " 12  price               975 non-null    object\n",
      " 13  course_description  935 non-null    object\n",
      " 14  course_syllabus     417 non-null    object\n",
      " 15  course_url          975 non-null    object\n",
      "dtypes: object(16)\n",
      "memory usage: 122.0+ KB\n"
     ]
    }
   ],
   "source": [
    "edx_df.info()"
   ]
  },
  {
   "attachments": {},
   "cell_type": "markdown",
   "metadata": {},
   "source": [
    "Es un bastante completo, aún así hay algunas cosas que hacer, procederemos llenando los nulos con 'Sin dato' excepto n_enrolled que se le pondrá 0"
   ]
  },
  {
   "cell_type": "code",
   "execution_count": 7,
   "metadata": {},
   "outputs": [],
   "source": [
    "# Borramos si existe algún duplicado\n",
    "edx_df = edx_df.drop_duplicates()"
   ]
  },
  {
   "cell_type": "code",
   "execution_count": 8,
   "metadata": {},
   "outputs": [
    {
     "data": {
      "text/plain": [
       "0    124980\n",
       "1    293864\n",
       "Name: n_enrolled, dtype: int64"
      ]
     },
     "execution_count": 8,
     "metadata": {},
     "output_type": "execute_result"
    }
   ],
   "source": [
    "edx_df['n_enrolled'] = edx_df['n_enrolled'].fillna(0)\n",
    "edx_df['n_enrolled'] = edx_df['n_enrolled'].apply(lambda x: str(x).replace(',', ''))\n",
    "edx_df['n_enrolled'] = edx_df['n_enrolled'].astype(int)\n",
    "edx_df['n_enrolled'].head(2) # Verificando el tipo de dato"
   ]
  },
  {
   "cell_type": "code",
   "execution_count": 9,
   "metadata": {},
   "outputs": [
    {
     "name": "stdout",
     "output_type": "stream",
     "text": [
      "<class 'pandas.core.frame.DataFrame'>\n",
      "Int64Index: 974 entries, 0 to 974\n",
      "Data columns (total 16 columns):\n",
      " #   Column              Non-Null Count  Dtype \n",
      "---  ------              --------------  ----- \n",
      " 0   title               974 non-null    object\n",
      " 1   summary             974 non-null    object\n",
      " 2   n_enrolled          974 non-null    int64 \n",
      " 3   course_type         974 non-null    object\n",
      " 4   institution         974 non-null    object\n",
      " 5   instructors         974 non-null    object\n",
      " 6   Level               974 non-null    object\n",
      " 7   subject             974 non-null    object\n",
      " 8   language            974 non-null    object\n",
      " 9   subtitles           974 non-null    object\n",
      " 10  course_effort       974 non-null    object\n",
      " 11  course_length       974 non-null    object\n",
      " 12  price               974 non-null    object\n",
      " 13  course_description  974 non-null    object\n",
      " 14  course_syllabus     974 non-null    object\n",
      " 15  course_url          974 non-null    object\n",
      "dtypes: int64(1), object(15)\n",
      "memory usage: 129.4+ KB\n"
     ]
    }
   ],
   "source": [
    "edx_df = edx_df.fillna('Sin dato')\n",
    "edx_df.info()"
   ]
  },
  {
   "attachments": {},
   "cell_type": "markdown",
   "metadata": {},
   "source": [
    "Investigamos la variable precio"
   ]
  },
  {
   "cell_type": "code",
   "execution_count": 10,
   "metadata": {},
   "outputs": [
    {
     "data": {
      "text/html": [
       "<div>\n",
       "<style scoped>\n",
       "    .dataframe tbody tr th:only-of-type {\n",
       "        vertical-align: middle;\n",
       "    }\n",
       "\n",
       "    .dataframe tbody tr th {\n",
       "        vertical-align: top;\n",
       "    }\n",
       "\n",
       "    .dataframe thead th {\n",
       "        text-align: right;\n",
       "    }\n",
       "</style>\n",
       "<table border=\"1\" class=\"dataframe\">\n",
       "  <thead>\n",
       "    <tr style=\"text-align: right;\">\n",
       "      <th></th>\n",
       "      <th>title</th>\n",
       "      <th>summary</th>\n",
       "      <th>n_enrolled</th>\n",
       "      <th>course_type</th>\n",
       "      <th>institution</th>\n",
       "      <th>instructors</th>\n",
       "      <th>Level</th>\n",
       "      <th>subject</th>\n",
       "      <th>language</th>\n",
       "      <th>subtitles</th>\n",
       "      <th>course_effort</th>\n",
       "      <th>course_length</th>\n",
       "      <th>price</th>\n",
       "      <th>course_description</th>\n",
       "      <th>course_syllabus</th>\n",
       "      <th>course_url</th>\n",
       "    </tr>\n",
       "  </thead>\n",
       "  <tbody>\n",
       "  </tbody>\n",
       "</table>\n",
       "</div>"
      ],
      "text/plain": [
       "Empty DataFrame\n",
       "Columns: [title, summary, n_enrolled, course_type, institution, instructors, Level, subject, language, subtitles, course_effort, course_length, price, course_description, course_syllabus, course_url]\n",
       "Index: []"
      ]
     },
     "execution_count": 10,
     "metadata": {},
     "output_type": "execute_result"
    }
   ],
   "source": [
    "# Devuelve un dataset que el precio no sea gratis\n",
    "edx_df[edx_df['price'].apply(lambda x: not x.startswith('FREE'))]"
   ]
  },
  {
   "attachments": {},
   "cell_type": "markdown",
   "metadata": {},
   "source": [
    "Del dataset vacío anterior, podemos concluir que:\n",
    "Si bien todos los cursos se los puede llevar gratis, los certificados se pagan, por lo que la columna price le ponemos el precio del certificado"
   ]
  },
  {
   "cell_type": "code",
   "execution_count": 11,
   "metadata": {},
   "outputs": [
    {
     "data": {
      "text/plain": [
       "0       49.0\n",
       "1       49.0\n",
       "2       90.0\n",
       "3      199.0\n",
       "4      249.0\n",
       "       ...  \n",
       "970     25.0\n",
       "971    139.0\n",
       "972    139.0\n",
       "973     25.0\n",
       "974     79.0\n",
       "Name: price, Length: 974, dtype: float64"
      ]
     },
     "execution_count": 11,
     "metadata": {},
     "output_type": "execute_result"
    }
   ],
   "source": [
    "edx_df['price'] = edx_df['price'].apply(lambda x: (x.split('$')[1]).split()[0])\n",
    "edx_df['price'] = edx_df['price'].astype(float)\n",
    "edx_df['price']"
   ]
  },
  {
   "cell_type": "code",
   "execution_count": 12,
   "metadata": {},
   "outputs": [],
   "source": [
    "# Renombramos columnas para tener mayor consistencia en los datos\n",
    "edx_df = edx_df.rename(columns={'n_enrolled': 'num_subscribers', 'Level': 'level'})"
   ]
  },
  {
   "attachments": {},
   "cell_type": "markdown",
   "metadata": {},
   "source": [
    "#### Creamos una función para agrupar los cursos por tipo de instituto, para así poder buscar más relaciones"
   ]
  },
  {
   "cell_type": "code",
   "execution_count": 13,
   "metadata": {},
   "outputs": [],
   "source": [
    "# Se crea una función para segmentar por tipo de institución\n",
    "def type_institution(ins):\n",
    "    ins = ins.lower()\n",
    "    if 'universi' in ins or 'college' in ins:\n",
    "        ins = 'University'\n",
    "    elif 'institute' in ins:\n",
    "        ins = 'Institute'\n",
    "    else:\n",
    "        ins = 'Other'\n",
    "\n",
    "    return ins"
   ]
  },
  {
   "cell_type": "code",
   "execution_count": 14,
   "metadata": {},
   "outputs": [
    {
     "data": {
      "text/plain": [
       "University    695\n",
       "Other         201\n",
       "Institute      78\n",
       "Name: type_ins, dtype: int64"
      ]
     },
     "execution_count": 14,
     "metadata": {},
     "output_type": "execute_result"
    }
   ],
   "source": [
    "edx_df['type_ins'] = edx_df['institution'].apply(type_institution)\n",
    "edx_df['type_ins'].value_counts()"
   ]
  },
  {
   "attachments": {},
   "cell_type": "markdown",
   "metadata": {},
   "source": [
    "Buscamos relación entre cursos dictados por universidades, institutos u otros y la cantidad de alumnos inscritos"
   ]
  },
  {
   "cell_type": "code",
   "execution_count": 15,
   "metadata": {},
   "outputs": [
    {
     "data": {
      "text/plain": [
       "type_ins\n",
       "Institute     37935.269231\n",
       "Other         38889.268657\n",
       "University    49877.143885\n",
       "Name: num_subscribers, dtype: float64"
      ]
     },
     "execution_count": 15,
     "metadata": {},
     "output_type": "execute_result"
    }
   ],
   "source": [
    "subscribers_mean_by_institution = edx_df.groupby('type_ins')['num_subscribers'].mean()\n",
    "subscribers_mean_by_institution"
   ]
  },
  {
   "cell_type": "code",
   "execution_count": 16,
   "metadata": {},
   "outputs": [
    {
     "data": {
      "image/png": "[encoded data removed]",
      "text/plain": [
       "<Figure size 1000x600 with 1 Axes>"
      ]
     },
     "metadata": {},
     "output_type": "display_data"
    }
   ],
   "source": [
    "plt.figure(figsize=(10, 6))\n",
    "subscribers_mean_by_institution.plot(kind='bar')\n",
    "\n",
    "plt.title('Promedio de alumnos por tipo de institución')\n",
    "plt.ylabel('Promedio de alumnos')\n",
    "plt.xlabel('Instituciones')\n",
    "\n",
    "plt.show()"
   ]
  },
  {
   "attachments": {},
   "cell_type": "markdown",
   "metadata": {},
   "source": [
    "Podemos ver que en promedio, los cursos impartidos por universidades tienen 10000 alumnos más que los cursos impartidos por institutos y otros."
   ]
  },
  {
   "cell_type": "code",
   "execution_count": 17,
   "metadata": {},
   "outputs": [
    {
     "data": {
      "text/plain": [
       "course_type\n",
       "Instructor-led on a course schedule    197.310345\n",
       "Self-paced on your time                 94.335000\n",
       "Name: price, dtype: float64"
      ]
     },
     "execution_count": 17,
     "metadata": {},
     "output_type": "execute_result"
    }
   ],
   "source": [
    "price_course_type = edx_df.groupby('course_type')['price'].mean()\n",
    "price_course_type"
   ]
  },
  {
   "cell_type": "code",
   "execution_count": 18,
   "metadata": {},
   "outputs": [
    {
     "data": {
      "image/png": "[encoded data removed]",
      "text/plain": [
       "<Figure size 1000x600 with 1 Axes>"
      ]
     },
     "metadata": {},
     "output_type": "display_data"
    }
   ],
   "source": [
    "plt.figure(figsize=(10, 6))\n",
    "price_course_type.plot(kind='bar')\n",
    "\n",
    "plt.xticks(rotation=0)\n",
    "plt.title('Promedio de precio por tipo de curso')\n",
    "plt.ylabel('Promedio de precio')\n",
    "plt.xlabel('Tipo de curso')\n",
    "\n",
    "plt.show()"
   ]
  },
  {
   "attachments": {},
   "cell_type": "markdown",
   "metadata": {},
   "source": [
    "En el gráfico vemos que tener un instructor junto con un horario específico es hasta el doble de costoso que un curso grabado, con estos datos podemos ver cuántos alumnos se inscriben a cada curso"
   ]
  },
  {
   "cell_type": "code",
   "execution_count": 19,
   "metadata": {},
   "outputs": [
    {
     "data": {
      "text/plain": [
       "course_type\n",
       "Instructor-led on a course schedule    40875.379310\n",
       "Self-paced on your time                47019.145197\n",
       "Name: num_subscribers, dtype: float64"
      ]
     },
     "execution_count": 19,
     "metadata": {},
     "output_type": "execute_result"
    }
   ],
   "source": [
    "subscribers_course_type = edx_df.groupby('course_type')['num_subscribers'].mean()\n",
    "subscribers_course_type"
   ]
  },
  {
   "cell_type": "code",
   "execution_count": 20,
   "metadata": {},
   "outputs": [
    {
     "data": {
      "image/png": "[encoded data removed]",
      "text/plain": [
       "<Figure size 1000x600 with 1 Axes>"
      ]
     },
     "metadata": {},
     "output_type": "display_data"
    }
   ],
   "source": [
    "plt.figure(figsize=(10, 6))\n",
    "subscribers_course_type.plot(kind='bar')\n",
    "\n",
    "plt.xticks(rotation=0)\n",
    "plt.title('Promedio de alumnos por tipo de curso')\n",
    "plt.ylabel('Promedio de alumnos')\n",
    "plt.xlabel('Tipo de curso')\n",
    "\n",
    "plt.show()"
   ]
  },
  {
   "attachments": {},
   "cell_type": "markdown",
   "metadata": {},
   "source": [
    "Acá vemos que más alumnos se inscriben a cursos grabados, pero la diferencia es de menos del 20%."
   ]
  },
  {
   "cell_type": "code",
   "execution_count": 21,
   "metadata": {},
   "outputs": [
    {
     "data": {
      "text/plain": [
       "Self-paced on your time                916\n",
       "Instructor-led on a course schedule     58\n",
       "Name: course_type, dtype: int64"
      ]
     },
     "execution_count": 21,
     "metadata": {},
     "output_type": "execute_result"
    }
   ],
   "source": [
    "# Procedemos a buscar cuántos cursos tiene cada tipo.\n",
    "edx_df['course_type'].value_counts()"
   ]
  },
  {
   "attachments": {},
   "cell_type": "markdown",
   "metadata": {},
   "source": [
    "#### Encontramos algo interesante, se podrían explotar los cursos impartidos por profesores, ya que si bien en promedio se inscriben un 20% menos de personas, las ganancias que generan pueden ser del doble"
   ]
  },
  {
   "cell_type": "code",
   "execution_count": 22,
   "metadata": {},
   "outputs": [
    {
     "data": {
      "image/png": "[encoded data removed]",
      "text/plain": [
       "<Figure size 1000x600 with 1 Axes>"
      ]
     },
     "metadata": {},
     "output_type": "display_data"
    }
   ],
   "source": [
    "# Buscamos más correlaciones\n",
    "subscribers_by_level = edx_df.groupby('level')['num_subscribers'].mean()\n",
    "\n",
    "plt.figure(figsize=(10, 6))\n",
    "\n",
    "subscribers_by_level.plot(kind='bar')\n",
    "\n",
    "plt.xticks(rotation=0)\n",
    "plt.title('Promedio de alumnos por nivel')\n",
    "plt.ylabel('Promedio de alumnos')\n",
    "plt.xlabel('Nivel')\n",
    "\n",
    "plt.show()"
   ]
  },
  {
   "attachments": {},
   "cell_type": "markdown",
   "metadata": {},
   "source": [
    "Vemos que en los cursos introductorios hay un 50% más de alumnos en promedio a diferencia de los cursos advanced"
   ]
  },
  {
   "cell_type": "code",
   "execution_count": 23,
   "metadata": {},
   "outputs": [
    {
     "data": {
      "image/png": "[encoded data removed]",
      "text/plain": [
       "<Figure size 1000x600 with 1 Axes>"
      ]
     },
     "metadata": {},
     "output_type": "display_data"
    }
   ],
   "source": [
    "price_by_level = edx_df.groupby('level')['price'].mean()\n",
    "\n",
    "plt.figure(figsize=(10, 6))\n",
    "price_by_level.plot(kind='bar')\n",
    "\n",
    "plt.xticks(rotation=0)\n",
    "plt.title('Promedio de precio por nivel')\n",
    "plt.ylabel('Promedio de precio')\n",
    "plt.xlabel('Nivel')\n",
    "\n",
    "plt.show()"
   ]
  },
  {
   "attachments": {},
   "cell_type": "markdown",
   "metadata": {},
   "source": [
    "Podemos ver que los cursos advanced son el doble de costosos que los introductorios y los intermedios."
   ]
  },
  {
   "cell_type": "code",
   "execution_count": 24,
   "metadata": {},
   "outputs": [
    {
     "data": {
      "image/png": "[encoded data removed]",
      "text/plain": [
       "<Figure size 1000x600 with 1 Axes>"
      ]
     },
     "metadata": {},
     "output_type": "display_data"
    }
   ],
   "source": [
    "level_counts = edx_df['level'].value_counts()\n",
    "\n",
    "plt.figure(figsize=(10, 6))\n",
    "level_counts.plot(kind='bar')\n",
    "\n",
    "plt.title('Oferta de cursos por nivel')\n",
    "plt.ylabel('Cantidad de cursos')\n",
    "plt.xlabel('Nivel')\n",
    "\n",
    "plt.xticks(rotation=0)\n",
    "\n",
    "plt.show()"
   ]
  },
  {
   "attachments": {},
   "cell_type": "markdown",
   "metadata": {},
   "source": [
    "Vemos que hay mucha diferencia en las oferta de cursos por niveles"
   ]
  },
  {
   "cell_type": "code",
   "execution_count": 68,
   "metadata": {},
   "outputs": [
    {
     "data": {
      "text/html": [
       "<div>\n",
       "<style scoped>\n",
       "    .dataframe tbody tr th:only-of-type {\n",
       "        vertical-align: middle;\n",
       "    }\n",
       "\n",
       "    .dataframe tbody tr th {\n",
       "        vertical-align: top;\n",
       "    }\n",
       "\n",
       "    .dataframe thead th {\n",
       "        text-align: right;\n",
       "    }\n",
       "</style>\n",
       "<table border=\"1\" class=\"dataframe\">\n",
       "  <thead>\n",
       "    <tr style=\"text-align: right;\">\n",
       "      <th></th>\n",
       "      <th>title</th>\n",
       "      <th>summary</th>\n",
       "      <th>num_subscribers</th>\n",
       "      <th>course_type</th>\n",
       "      <th>institution</th>\n",
       "      <th>instructors</th>\n",
       "      <th>level</th>\n",
       "      <th>subject</th>\n",
       "      <th>language</th>\n",
       "      <th>subtitles</th>\n",
       "      <th>course_effort</th>\n",
       "      <th>course_length</th>\n",
       "      <th>price</th>\n",
       "      <th>course_description</th>\n",
       "      <th>course_syllabus</th>\n",
       "      <th>course_url</th>\n",
       "      <th>type_ins</th>\n",
       "    </tr>\n",
       "  </thead>\n",
       "  <tbody>\n",
       "    <tr>\n",
       "      <th>1</th>\n",
       "      <td>Programming for Everybody (Getting Started wit...</td>\n",
       "      <td>This course is a \"no prerequisite\" introductio...</td>\n",
       "      <td>293864</td>\n",
       "      <td>Self-paced on your time</td>\n",
       "      <td>The University of Michigan</td>\n",
       "      <td>Charles Severance</td>\n",
       "      <td>Introductory</td>\n",
       "      <td>Computer Science</td>\n",
       "      <td>English</td>\n",
       "      <td>English</td>\n",
       "      <td>2–4 hours per week</td>\n",
       "      <td>7 Weeks</td>\n",
       "      <td>49.0</td>\n",
       "      <td>This course aims to teach everyone the basics ...</td>\n",
       "      <td>Sin dato</td>\n",
       "      <td>https://www.edx.org/course/programming-for-eve...</td>\n",
       "      <td>University</td>\n",
       "    </tr>\n",
       "    <tr>\n",
       "      <th>17</th>\n",
       "      <td>Python Basics for Data Science</td>\n",
       "      <td>This Python course provides a beginner-friendl...</td>\n",
       "      <td>228809</td>\n",
       "      <td>Self-paced on your time</td>\n",
       "      <td>IBM</td>\n",
       "      <td>Joseph Santarcangelo</td>\n",
       "      <td>Introductory</td>\n",
       "      <td>Data Analysis &amp; Statistics</td>\n",
       "      <td>English</td>\n",
       "      <td>English</td>\n",
       "      <td>2–5 hours per week</td>\n",
       "      <td>5 Weeks</td>\n",
       "      <td>39.0</td>\n",
       "      <td>Kickstart your learning of Python for data sci...</td>\n",
       "      <td>Module 1 - Python Basics\\nYour first program\\n...</td>\n",
       "      <td>https://www.edx.org/course/python-basics-for-d...</td>\n",
       "      <td>Other</td>\n",
       "    </tr>\n",
       "    <tr>\n",
       "      <th>20</th>\n",
       "      <td>CS50's Introduction to Artificial Intelligence...</td>\n",
       "      <td>Learn to use machine learning in Python in thi...</td>\n",
       "      <td>258006</td>\n",
       "      <td>Self-paced on your time</td>\n",
       "      <td>Harvard University</td>\n",
       "      <td>David J. Malan-Brian Yu</td>\n",
       "      <td>Introductory</td>\n",
       "      <td>Computer Science</td>\n",
       "      <td>English</td>\n",
       "      <td>English</td>\n",
       "      <td>10–30 hours per week</td>\n",
       "      <td>7 Weeks</td>\n",
       "      <td>199.0</td>\n",
       "      <td>AI is transforming how we live, work, and play...</td>\n",
       "      <td>Sin dato</td>\n",
       "      <td>https://www.edx.org/course/cs50s-introduction-...</td>\n",
       "      <td>University</td>\n",
       "    </tr>\n",
       "    <tr>\n",
       "      <th>69</th>\n",
       "      <td>Computing in Python I: Fundamentals and Proced...</td>\n",
       "      <td>Learn the fundamentals of computing in Python,...</td>\n",
       "      <td>141966</td>\n",
       "      <td>Self-paced on your time</td>\n",
       "      <td>The Georgia Institute of Technology</td>\n",
       "      <td>David Joyner</td>\n",
       "      <td>Introductory</td>\n",
       "      <td>Computer Science</td>\n",
       "      <td>English</td>\n",
       "      <td>English</td>\n",
       "      <td>9–10 hours per week</td>\n",
       "      <td>5 Weeks</td>\n",
       "      <td>99.0</td>\n",
       "      <td>This course starts from the beginning, coverin...</td>\n",
       "      <td>Chapter 1: Computing. The fundamentals of how ...</td>\n",
       "      <td>https://www.edx.org/course/computing-in-python...</td>\n",
       "      <td>Institute</td>\n",
       "    </tr>\n",
       "    <tr>\n",
       "      <th>88</th>\n",
       "      <td>Machine Learning with Python: A Practical Intr...</td>\n",
       "      <td>Machine Learning can be an incredibly benefici...</td>\n",
       "      <td>80161</td>\n",
       "      <td>Self-paced on your time</td>\n",
       "      <td>IBM</td>\n",
       "      <td>Saeed Aghabozorgi</td>\n",
       "      <td>Introductory</td>\n",
       "      <td>Data Analysis &amp; Statistics</td>\n",
       "      <td>English</td>\n",
       "      <td>English</td>\n",
       "      <td>4–6 hours per week</td>\n",
       "      <td>5 Weeks</td>\n",
       "      <td>39.0</td>\n",
       "      <td>About this courseThis Machine Learning with Py...</td>\n",
       "      <td>Module 1 - Introduction to Machine Learning\\nA...</td>\n",
       "      <td>https://www.edx.org/course/machine-learning-wi...</td>\n",
       "      <td>Other</td>\n",
       "    </tr>\n",
       "  </tbody>\n",
       "</table>\n",
       "</div>"
      ],
      "text/plain": [
       "                                                title  \\\n",
       "1   Programming for Everybody (Getting Started wit...   \n",
       "17                     Python Basics for Data Science   \n",
       "20  CS50's Introduction to Artificial Intelligence...   \n",
       "69  Computing in Python I: Fundamentals and Proced...   \n",
       "88  Machine Learning with Python: A Practical Intr...   \n",
       "\n",
       "                                              summary  num_subscribers  \\\n",
       "1   This course is a \"no prerequisite\" introductio...           293864   \n",
       "17  This Python course provides a beginner-friendl...           228809   \n",
       "20  Learn to use machine learning in Python in thi...           258006   \n",
       "69  Learn the fundamentals of computing in Python,...           141966   \n",
       "88  Machine Learning can be an incredibly benefici...            80161   \n",
       "\n",
       "                course_type                          institution  \\\n",
       "1   Self-paced on your time           The University of Michigan   \n",
       "17  Self-paced on your time                                  IBM   \n",
       "20  Self-paced on your time                   Harvard University   \n",
       "69  Self-paced on your time  The Georgia Institute of Technology   \n",
       "88  Self-paced on your time                                  IBM   \n",
       "\n",
       "                instructors         level                     subject  \\\n",
       "1         Charles Severance  Introductory            Computer Science   \n",
       "17     Joseph Santarcangelo  Introductory  Data Analysis & Statistics   \n",
       "20  David J. Malan-Brian Yu  Introductory            Computer Science   \n",
       "69             David Joyner  Introductory            Computer Science   \n",
       "88        Saeed Aghabozorgi  Introductory  Data Analysis & Statistics   \n",
       "\n",
       "   language subtitles         course_effort course_length  price  \\\n",
       "1   English   English    2–4 hours per week       7 Weeks   49.0   \n",
       "17  English   English    2–5 hours per week       5 Weeks   39.0   \n",
       "20  English   English  10–30 hours per week       7 Weeks  199.0   \n",
       "69  English   English   9–10 hours per week       5 Weeks   99.0   \n",
       "88  English   English    4–6 hours per week       5 Weeks   39.0   \n",
       "\n",
       "                                   course_description  \\\n",
       "1   This course aims to teach everyone the basics ...   \n",
       "17  Kickstart your learning of Python for data sci...   \n",
       "20  AI is transforming how we live, work, and play...   \n",
       "69  This course starts from the beginning, coverin...   \n",
       "88  About this courseThis Machine Learning with Py...   \n",
       "\n",
       "                                      course_syllabus  \\\n",
       "1                                            Sin dato   \n",
       "17  Module 1 - Python Basics\\nYour first program\\n...   \n",
       "20                                           Sin dato   \n",
       "69  Chapter 1: Computing. The fundamentals of how ...   \n",
       "88  Module 1 - Introduction to Machine Learning\\nA...   \n",
       "\n",
       "                                           course_url    type_ins  \n",
       "1   https://www.edx.org/course/programming-for-eve...  University  \n",
       "17  https://www.edx.org/course/python-basics-for-d...       Other  \n",
       "20  https://www.edx.org/course/cs50s-introduction-...  University  \n",
       "69  https://www.edx.org/course/computing-in-python...   Institute  \n",
       "88  https://www.edx.org/course/machine-learning-wi...       Other  "
      ]
     },
     "execution_count": 68,
     "metadata": {},
     "output_type": "execute_result"
    }
   ],
   "source": [
    "intro_edx = edx_df[edx_df['level']=='Introductory']\n",
    "intro_edx[intro_edx['title'].apply(lambda x: 'Python' in x)].head(5)"
   ]
  },
  {
   "attachments": {},
   "cell_type": "markdown",
   "metadata": {},
   "source": [
    "#### Para el dataset de EDX podemos concluir que hay dos huecos en el mercado que aún no están siendo explotados:\n",
    "\n",
    "- El primero serían los cursos impartidos en vivo con algún docente, que si bien tienen un 20% menos de alumnos inscritos, este tipo de cursos valen el doble.\n",
    "\n",
    "- El segundo son los cursos avanzados, que lógicamente tienen menos alumnos que los introductorios (un 50% menos aprox.), pero aún así, al igual que el anterior, la ganancia puede ser del doble.\n",
    "\n",
    "#### Además hay que tener en cuenta que en ambos casos, hay muy pocos cursos avanzados y cursos en vivo, por lo que aún pueden haber varios cursos que aún no se han enseñado, a diferencia de los introductorios, en los que puedes encontar de casi todo."
   ]
  },
  {
   "attachments": {},
   "cell_type": "markdown",
   "metadata": {},
   "source": [
    "## Explorando udemy"
   ]
  },
  {
   "cell_type": "code",
   "execution_count": 26,
   "metadata": {},
   "outputs": [
    {
     "data": {
      "text/html": [
       "<div>\n",
       "<style scoped>\n",
       "    .dataframe tbody tr th:only-of-type {\n",
       "        vertical-align: middle;\n",
       "    }\n",
       "\n",
       "    .dataframe tbody tr th {\n",
       "        vertical-align: top;\n",
       "    }\n",
       "\n",
       "    .dataframe thead th {\n",
       "        text-align: right;\n",
       "    }\n",
       "</style>\n",
       "<table border=\"1\" class=\"dataframe\">\n",
       "  <thead>\n",
       "    <tr style=\"text-align: right;\">\n",
       "      <th></th>\n",
       "      <th>course_id</th>\n",
       "      <th>course_title</th>\n",
       "      <th>url</th>\n",
       "      <th>is_paid</th>\n",
       "      <th>price</th>\n",
       "      <th>num_subscribers</th>\n",
       "      <th>num_reviews</th>\n",
       "      <th>num_lectures</th>\n",
       "      <th>level</th>\n",
       "      <th>content_duration</th>\n",
       "      <th>published_timestamp</th>\n",
       "      <th>subject</th>\n",
       "    </tr>\n",
       "  </thead>\n",
       "  <tbody>\n",
       "    <tr>\n",
       "      <th>0</th>\n",
       "      <td>1070968</td>\n",
       "      <td>Ultimate Investment Banking Course</td>\n",
       "      <td>https://www.udemy.com/ultimate-investment-bank...</td>\n",
       "      <td>True</td>\n",
       "      <td>200</td>\n",
       "      <td>2147</td>\n",
       "      <td>23</td>\n",
       "      <td>51</td>\n",
       "      <td>All Levels</td>\n",
       "      <td>1.5</td>\n",
       "      <td>2017-01-18T20:58:58Z</td>\n",
       "      <td>Business Finance</td>\n",
       "    </tr>\n",
       "    <tr>\n",
       "      <th>1</th>\n",
       "      <td>1113822</td>\n",
       "      <td>Complete GST Course &amp; Certification - Grow You...</td>\n",
       "      <td>https://www.udemy.com/goods-and-services-tax/</td>\n",
       "      <td>True</td>\n",
       "      <td>75</td>\n",
       "      <td>2792</td>\n",
       "      <td>923</td>\n",
       "      <td>274</td>\n",
       "      <td>All Levels</td>\n",
       "      <td>39.0</td>\n",
       "      <td>2017-03-09T16:34:20Z</td>\n",
       "      <td>Business Finance</td>\n",
       "    </tr>\n",
       "    <tr>\n",
       "      <th>2</th>\n",
       "      <td>1006314</td>\n",
       "      <td>Financial Modeling for Business Analysts and C...</td>\n",
       "      <td>https://www.udemy.com/financial-modeling-for-b...</td>\n",
       "      <td>True</td>\n",
       "      <td>45</td>\n",
       "      <td>2174</td>\n",
       "      <td>74</td>\n",
       "      <td>51</td>\n",
       "      <td>Intermediate Level</td>\n",
       "      <td>2.5</td>\n",
       "      <td>2016-12-19T19:26:30Z</td>\n",
       "      <td>Business Finance</td>\n",
       "    </tr>\n",
       "    <tr>\n",
       "      <th>3</th>\n",
       "      <td>1210588</td>\n",
       "      <td>Beginner to Pro - Financial Analysis in Excel ...</td>\n",
       "      <td>https://www.udemy.com/complete-excel-finance-c...</td>\n",
       "      <td>True</td>\n",
       "      <td>95</td>\n",
       "      <td>2451</td>\n",
       "      <td>11</td>\n",
       "      <td>36</td>\n",
       "      <td>All Levels</td>\n",
       "      <td>3.0</td>\n",
       "      <td>2017-05-30T20:07:24Z</td>\n",
       "      <td>Business Finance</td>\n",
       "    </tr>\n",
       "    <tr>\n",
       "      <th>4</th>\n",
       "      <td>1011058</td>\n",
       "      <td>How To Maximize Your Profits Trading Options</td>\n",
       "      <td>https://www.udemy.com/how-to-maximize-your-pro...</td>\n",
       "      <td>True</td>\n",
       "      <td>200</td>\n",
       "      <td>1276</td>\n",
       "      <td>45</td>\n",
       "      <td>26</td>\n",
       "      <td>Intermediate Level</td>\n",
       "      <td>2.0</td>\n",
       "      <td>2016-12-13T14:57:18Z</td>\n",
       "      <td>Business Finance</td>\n",
       "    </tr>\n",
       "  </tbody>\n",
       "</table>\n",
       "</div>"
      ],
      "text/plain": [
       "   course_id                                       course_title  \\\n",
       "0    1070968                 Ultimate Investment Banking Course   \n",
       "1    1113822  Complete GST Course & Certification - Grow You...   \n",
       "2    1006314  Financial Modeling for Business Analysts and C...   \n",
       "3    1210588  Beginner to Pro - Financial Analysis in Excel ...   \n",
       "4    1011058       How To Maximize Your Profits Trading Options   \n",
       "\n",
       "                                                 url  is_paid  price  \\\n",
       "0  https://www.udemy.com/ultimate-investment-bank...     True    200   \n",
       "1      https://www.udemy.com/goods-and-services-tax/     True     75   \n",
       "2  https://www.udemy.com/financial-modeling-for-b...     True     45   \n",
       "3  https://www.udemy.com/complete-excel-finance-c...     True     95   \n",
       "4  https://www.udemy.com/how-to-maximize-your-pro...     True    200   \n",
       "\n",
       "   num_subscribers  num_reviews  num_lectures               level  \\\n",
       "0             2147           23            51          All Levels   \n",
       "1             2792          923           274          All Levels   \n",
       "2             2174           74            51  Intermediate Level   \n",
       "3             2451           11            36          All Levels   \n",
       "4             1276           45            26  Intermediate Level   \n",
       "\n",
       "   content_duration   published_timestamp           subject  \n",
       "0               1.5  2017-01-18T20:58:58Z  Business Finance  \n",
       "1              39.0  2017-03-09T16:34:20Z  Business Finance  \n",
       "2               2.5  2016-12-19T19:26:30Z  Business Finance  \n",
       "3               3.0  2017-05-30T20:07:24Z  Business Finance  \n",
       "4               2.0  2016-12-13T14:57:18Z  Business Finance  "
      ]
     },
     "execution_count": 26,
     "metadata": {},
     "output_type": "execute_result"
    }
   ],
   "source": [
    "udemy_df.head(5)"
   ]
  },
  {
   "cell_type": "code",
   "execution_count": 27,
   "metadata": {},
   "outputs": [
    {
     "name": "stdout",
     "output_type": "stream",
     "text": [
      "<class 'pandas.core.frame.DataFrame'>\n",
      "RangeIndex: 3678 entries, 0 to 3677\n",
      "Data columns (total 12 columns):\n",
      " #   Column               Non-Null Count  Dtype  \n",
      "---  ------               --------------  -----  \n",
      " 0   course_id            3678 non-null   int64  \n",
      " 1   course_title         3678 non-null   object \n",
      " 2   url                  3678 non-null   object \n",
      " 3   is_paid              3678 non-null   bool   \n",
      " 4   price                3678 non-null   int64  \n",
      " 5   num_subscribers      3678 non-null   int64  \n",
      " 6   num_reviews          3678 non-null   int64  \n",
      " 7   num_lectures         3678 non-null   int64  \n",
      " 8   level                3678 non-null   object \n",
      " 9   content_duration     3678 non-null   float64\n",
      " 10  published_timestamp  3678 non-null   object \n",
      " 11  subject              3678 non-null   object \n",
      "dtypes: bool(1), float64(1), int64(5), object(5)\n",
      "memory usage: 319.8+ KB\n"
     ]
    }
   ],
   "source": [
    "udemy_df.info()"
   ]
  },
  {
   "attachments": {},
   "cell_type": "markdown",
   "metadata": {},
   "source": [
    "Empezaremos borrando duplicados y luego viendo las relaciones que podemos sacar del dataset de Udemy"
   ]
  },
  {
   "cell_type": "code",
   "execution_count": 28,
   "metadata": {},
   "outputs": [
    {
     "data": {
      "text/plain": [
       "3672"
      ]
     },
     "execution_count": 28,
     "metadata": {},
     "output_type": "execute_result"
    }
   ],
   "source": [
    "udemy_df = udemy_df.drop_duplicates()\n",
    "len(udemy_df) # Solo había 6 duplicados"
   ]
  },
  {
   "cell_type": "code",
   "execution_count": 29,
   "metadata": {},
   "outputs": [
    {
     "data": {
      "text/html": [
       "<div>\n",
       "<style scoped>\n",
       "    .dataframe tbody tr th:only-of-type {\n",
       "        vertical-align: middle;\n",
       "    }\n",
       "\n",
       "    .dataframe tbody tr th {\n",
       "        vertical-align: top;\n",
       "    }\n",
       "\n",
       "    .dataframe thead th {\n",
       "        text-align: right;\n",
       "    }\n",
       "</style>\n",
       "<table border=\"1\" class=\"dataframe\">\n",
       "  <thead>\n",
       "    <tr style=\"text-align: right;\">\n",
       "      <th></th>\n",
       "      <th>course_id</th>\n",
       "      <th>course_title</th>\n",
       "      <th>url</th>\n",
       "      <th>is_paid</th>\n",
       "      <th>price</th>\n",
       "      <th>num_subscribers</th>\n",
       "      <th>num_reviews</th>\n",
       "      <th>num_lectures</th>\n",
       "      <th>level</th>\n",
       "      <th>content_duration</th>\n",
       "      <th>published_timestamp</th>\n",
       "      <th>subject</th>\n",
       "    </tr>\n",
       "  </thead>\n",
       "  <tbody>\n",
       "    <tr>\n",
       "      <th>95</th>\n",
       "      <td>1148774</td>\n",
       "      <td>Options Trading 101: The Basics</td>\n",
       "      <td>https://www.udemy.com/options-trading-101-the-...</td>\n",
       "      <td>False</td>\n",
       "      <td>0</td>\n",
       "      <td>1514</td>\n",
       "      <td>66</td>\n",
       "      <td>11</td>\n",
       "      <td>Beginner Level</td>\n",
       "      <td>0.55</td>\n",
       "      <td>2017-03-23T22:19:57Z</td>\n",
       "      <td>Business Finance</td>\n",
       "    </tr>\n",
       "    <tr>\n",
       "      <th>103</th>\n",
       "      <td>133536</td>\n",
       "      <td>Stock Market Investing for Beginners</td>\n",
       "      <td>https://www.udemy.com/the-beginners-guide-to-t...</td>\n",
       "      <td>False</td>\n",
       "      <td>0</td>\n",
       "      <td>50855</td>\n",
       "      <td>2698</td>\n",
       "      <td>15</td>\n",
       "      <td>Beginner Level</td>\n",
       "      <td>1.50</td>\n",
       "      <td>2013-12-25T19:53:34Z</td>\n",
       "      <td>Business Finance</td>\n",
       "    </tr>\n",
       "  </tbody>\n",
       "</table>\n",
       "</div>"
      ],
      "text/plain": [
       "     course_id                          course_title  \\\n",
       "95     1148774       Options Trading 101: The Basics   \n",
       "103     133536  Stock Market Investing for Beginners   \n",
       "\n",
       "                                                   url  is_paid  price  \\\n",
       "95   https://www.udemy.com/options-trading-101-the-...    False      0   \n",
       "103  https://www.udemy.com/the-beginners-guide-to-t...    False      0   \n",
       "\n",
       "     num_subscribers  num_reviews  num_lectures           level  \\\n",
       "95              1514           66            11  Beginner Level   \n",
       "103            50855         2698            15  Beginner Level   \n",
       "\n",
       "     content_duration   published_timestamp           subject  \n",
       "95               0.55  2017-03-23T22:19:57Z  Business Finance  \n",
       "103              1.50  2013-12-25T19:53:34Z  Business Finance  "
      ]
     },
     "execution_count": 29,
     "metadata": {},
     "output_type": "execute_result"
    }
   ],
   "source": [
    "udemy_df[udemy_df['is_paid']==False].head(2)"
   ]
  },
  {
   "attachments": {},
   "cell_type": "markdown",
   "metadata": {},
   "source": [
    "Nos damos cuenta que is_paid hace referencia a precio de 0, por lo que se puede eliminar esa fila y solo trabajar con precio"
   ]
  },
  {
   "cell_type": "code",
   "execution_count": 30,
   "metadata": {},
   "outputs": [],
   "source": [
    "udemy_df.drop(axis=1, columns='is_paid', inplace=True)"
   ]
  },
  {
   "attachments": {},
   "cell_type": "markdown",
   "metadata": {},
   "source": [
    "## Explorando coursera y coursera_reviews"
   ]
  },
  {
   "cell_type": "code",
   "execution_count": 31,
   "metadata": {},
   "outputs": [
    {
     "data": {
      "text/html": [
       "<div>\n",
       "<style scoped>\n",
       "    .dataframe tbody tr th:only-of-type {\n",
       "        vertical-align: middle;\n",
       "    }\n",
       "\n",
       "    .dataframe tbody tr th {\n",
       "        vertical-align: top;\n",
       "    }\n",
       "\n",
       "    .dataframe thead th {\n",
       "        text-align: right;\n",
       "    }\n",
       "</style>\n",
       "<table border=\"1\" class=\"dataframe\">\n",
       "  <thead>\n",
       "    <tr style=\"text-align: right;\">\n",
       "      <th></th>\n",
       "      <th>name</th>\n",
       "      <th>institution</th>\n",
       "      <th>course_url</th>\n",
       "      <th>course_id</th>\n",
       "    </tr>\n",
       "  </thead>\n",
       "  <tbody>\n",
       "    <tr>\n",
       "      <th>0</th>\n",
       "      <td>Machine Learning</td>\n",
       "      <td>Stanford University</td>\n",
       "      <td>https://www.coursera.org/learn/machine-learning</td>\n",
       "      <td>machine-learning</td>\n",
       "    </tr>\n",
       "    <tr>\n",
       "      <th>1</th>\n",
       "      <td>Indigenous Canada</td>\n",
       "      <td>University of Alberta</td>\n",
       "      <td>https://www.coursera.org/learn/indigenous-canada</td>\n",
       "      <td>indigenous-canada</td>\n",
       "    </tr>\n",
       "    <tr>\n",
       "      <th>2</th>\n",
       "      <td>The Science of Well-Being</td>\n",
       "      <td>Yale University</td>\n",
       "      <td>https://www.coursera.org/learn/the-science-of-...</td>\n",
       "      <td>the-science-of-well-being</td>\n",
       "    </tr>\n",
       "    <tr>\n",
       "      <th>3</th>\n",
       "      <td>Technical Support Fundamentals</td>\n",
       "      <td>Google</td>\n",
       "      <td>https://www.coursera.org/learn/technical-suppo...</td>\n",
       "      <td>technical-support-fundamentals</td>\n",
       "    </tr>\n",
       "    <tr>\n",
       "      <th>4</th>\n",
       "      <td>Become a CBRS Certified Professional Installer...</td>\n",
       "      <td>Google - Spectrum Sharing</td>\n",
       "      <td>https://www.coursera.org/learn/google-cbrs-cpi...</td>\n",
       "      <td>google-cbrs-cpi-training</td>\n",
       "    </tr>\n",
       "  </tbody>\n",
       "</table>\n",
       "</div>"
      ],
      "text/plain": [
       "                                                name  \\\n",
       "0                                   Machine Learning   \n",
       "1                                  Indigenous Canada   \n",
       "2                          The Science of Well-Being   \n",
       "3                     Technical Support Fundamentals   \n",
       "4  Become a CBRS Certified Professional Installer...   \n",
       "\n",
       "                 institution  \\\n",
       "0        Stanford University   \n",
       "1      University of Alberta   \n",
       "2            Yale University   \n",
       "3                     Google   \n",
       "4  Google - Spectrum Sharing   \n",
       "\n",
       "                                          course_url  \\\n",
       "0    https://www.coursera.org/learn/machine-learning   \n",
       "1   https://www.coursera.org/learn/indigenous-canada   \n",
       "2  https://www.coursera.org/learn/the-science-of-...   \n",
       "3  https://www.coursera.org/learn/technical-suppo...   \n",
       "4  https://www.coursera.org/learn/google-cbrs-cpi...   \n",
       "\n",
       "                        course_id  \n",
       "0                machine-learning  \n",
       "1               indigenous-canada  \n",
       "2       the-science-of-well-being  \n",
       "3  technical-support-fundamentals  \n",
       "4        google-cbrs-cpi-training  "
      ]
     },
     "execution_count": 31,
     "metadata": {},
     "output_type": "execute_result"
    }
   ],
   "source": [
    "coursera_df.head(5)"
   ]
  },
  {
   "cell_type": "code",
   "execution_count": 32,
   "metadata": {},
   "outputs": [
    {
     "name": "stdout",
     "output_type": "stream",
     "text": [
      "<class 'pandas.core.frame.DataFrame'>\n",
      "RangeIndex: 623 entries, 0 to 622\n",
      "Data columns (total 4 columns):\n",
      " #   Column       Non-Null Count  Dtype \n",
      "---  ------       --------------  ----- \n",
      " 0   name         623 non-null    object\n",
      " 1   institution  623 non-null    object\n",
      " 2   course_url   623 non-null    object\n",
      " 3   course_id    623 non-null    object\n",
      "dtypes: object(4)\n",
      "memory usage: 19.6+ KB\n"
     ]
    }
   ],
   "source": [
    "coursera_df.info()"
   ]
  },
  {
   "attachments": {},
   "cell_type": "markdown",
   "metadata": {},
   "source": [
    "Podemos ver que no hay nulos, pero hay poca información, revisaremos lo que hay en coursera_reviews"
   ]
  },
  {
   "cell_type": "code",
   "execution_count": 33,
   "metadata": {},
   "outputs": [
    {
     "data": {
      "text/html": [
       "<div>\n",
       "<style scoped>\n",
       "    .dataframe tbody tr th:only-of-type {\n",
       "        vertical-align: middle;\n",
       "    }\n",
       "\n",
       "    .dataframe tbody tr th {\n",
       "        vertical-align: top;\n",
       "    }\n",
       "\n",
       "    .dataframe thead th {\n",
       "        text-align: right;\n",
       "    }\n",
       "</style>\n",
       "<table border=\"1\" class=\"dataframe\">\n",
       "  <thead>\n",
       "    <tr style=\"text-align: right;\">\n",
       "      <th></th>\n",
       "      <th>reviews</th>\n",
       "      <th>reviewers</th>\n",
       "      <th>date_reviews</th>\n",
       "      <th>rating</th>\n",
       "      <th>course_id</th>\n",
       "    </tr>\n",
       "  </thead>\n",
       "  <tbody>\n",
       "    <tr>\n",
       "      <th>0</th>\n",
       "      <td>Pretty dry, but I was able to pass with just t...</td>\n",
       "      <td>By Robert S</td>\n",
       "      <td>Feb 12, 2020</td>\n",
       "      <td>4</td>\n",
       "      <td>google-cbrs-cpi-training</td>\n",
       "    </tr>\n",
       "    <tr>\n",
       "      <th>1</th>\n",
       "      <td>would be a better experience if the video and ...</td>\n",
       "      <td>By Gabriel E R</td>\n",
       "      <td>Sep 28, 2020</td>\n",
       "      <td>4</td>\n",
       "      <td>google-cbrs-cpi-training</td>\n",
       "    </tr>\n",
       "    <tr>\n",
       "      <th>2</th>\n",
       "      <td>Information was perfect! The program itself wa...</td>\n",
       "      <td>By Jacob D</td>\n",
       "      <td>Apr 08, 2020</td>\n",
       "      <td>4</td>\n",
       "      <td>google-cbrs-cpi-training</td>\n",
       "    </tr>\n",
       "    <tr>\n",
       "      <th>3</th>\n",
       "      <td>A few grammatical mistakes on test made me do ...</td>\n",
       "      <td>By Dale B</td>\n",
       "      <td>Feb 24, 2020</td>\n",
       "      <td>4</td>\n",
       "      <td>google-cbrs-cpi-training</td>\n",
       "    </tr>\n",
       "    <tr>\n",
       "      <th>4</th>\n",
       "      <td>Excellent course and the training provided was...</td>\n",
       "      <td>By Sean G</td>\n",
       "      <td>Jun 18, 2020</td>\n",
       "      <td>4</td>\n",
       "      <td>google-cbrs-cpi-training</td>\n",
       "    </tr>\n",
       "  </tbody>\n",
       "</table>\n",
       "</div>"
      ],
      "text/plain": [
       "                                             reviews       reviewers  \\\n",
       "0  Pretty dry, but I was able to pass with just t...     By Robert S   \n",
       "1  would be a better experience if the video and ...  By Gabriel E R   \n",
       "2  Information was perfect! The program itself wa...      By Jacob D   \n",
       "3  A few grammatical mistakes on test made me do ...       By Dale B   \n",
       "4  Excellent course and the training provided was...       By Sean G   \n",
       "\n",
       "   date_reviews  rating                 course_id  \n",
       "0  Feb 12, 2020       4  google-cbrs-cpi-training  \n",
       "1  Sep 28, 2020       4  google-cbrs-cpi-training  \n",
       "2  Apr 08, 2020       4  google-cbrs-cpi-training  \n",
       "3  Feb 24, 2020       4  google-cbrs-cpi-training  \n",
       "4  Jun 18, 2020       4  google-cbrs-cpi-training  "
      ]
     },
     "execution_count": 33,
     "metadata": {},
     "output_type": "execute_result"
    }
   ],
   "source": [
    "reviews.head(5)"
   ]
  },
  {
   "attachments": {},
   "cell_type": "markdown",
   "metadata": {},
   "source": [
    "Empezamos buscando duplicados"
   ]
  },
  {
   "cell_type": "code",
   "execution_count": 34,
   "metadata": {},
   "outputs": [],
   "source": [
    "dup_reviews = reviews[reviews.duplicated(keep=False)]"
   ]
  },
  {
   "cell_type": "code",
   "execution_count": 35,
   "metadata": {},
   "outputs": [
    {
     "data": {
      "text/html": [
       "<div>\n",
       "<style scoped>\n",
       "    .dataframe tbody tr th:only-of-type {\n",
       "        vertical-align: middle;\n",
       "    }\n",
       "\n",
       "    .dataframe tbody tr th {\n",
       "        vertical-align: top;\n",
       "    }\n",
       "\n",
       "    .dataframe thead th {\n",
       "        text-align: right;\n",
       "    }\n",
       "</style>\n",
       "<table border=\"1\" class=\"dataframe\">\n",
       "  <thead>\n",
       "    <tr style=\"text-align: right;\">\n",
       "      <th></th>\n",
       "      <th>reviews</th>\n",
       "      <th>reviewers</th>\n",
       "      <th>date_reviews</th>\n",
       "      <th>rating</th>\n",
       "      <th>course_id</th>\n",
       "    </tr>\n",
       "  </thead>\n",
       "  <tbody>\n",
       "    <tr>\n",
       "      <th>15815</th>\n",
       "      <td>It is not that much useful, because there is n...</td>\n",
       "      <td>By Girish</td>\n",
       "      <td>Oct 26, 2018</td>\n",
       "      <td>1</td>\n",
       "      <td>python</td>\n",
       "    </tr>\n",
       "    <tr>\n",
       "      <th>15840</th>\n",
       "      <td>It is not that much useful, because there is n...</td>\n",
       "      <td>By Girish</td>\n",
       "      <td>Oct 26, 2018</td>\n",
       "      <td>1</td>\n",
       "      <td>python</td>\n",
       "    </tr>\n",
       "    <tr>\n",
       "      <th>15865</th>\n",
       "      <td>It is not that much useful, because there is n...</td>\n",
       "      <td>By Girish</td>\n",
       "      <td>Oct 26, 2018</td>\n",
       "      <td>1</td>\n",
       "      <td>python</td>\n",
       "    </tr>\n",
       "    <tr>\n",
       "      <th>32599</th>\n",
       "      <td>Great course.  Very approachable, well taught,...</td>\n",
       "      <td>By Harry E J J</td>\n",
       "      <td>Oct 26, 2018</td>\n",
       "      <td>5</td>\n",
       "      <td>python</td>\n",
       "    </tr>\n",
       "    <tr>\n",
       "      <th>32624</th>\n",
       "      <td>Great course.  Very approachable, well taught,...</td>\n",
       "      <td>By Harry E J J</td>\n",
       "      <td>Oct 26, 2018</td>\n",
       "      <td>5</td>\n",
       "      <td>python</td>\n",
       "    </tr>\n",
       "  </tbody>\n",
       "</table>\n",
       "</div>"
      ],
      "text/plain": [
       "                                                 reviews       reviewers  \\\n",
       "15815  It is not that much useful, because there is n...       By Girish   \n",
       "15840  It is not that much useful, because there is n...       By Girish   \n",
       "15865  It is not that much useful, because there is n...       By Girish   \n",
       "32599  Great course.  Very approachable, well taught,...  By Harry E J J   \n",
       "32624  Great course.  Very approachable, well taught,...  By Harry E J J   \n",
       "\n",
       "       date_reviews  rating course_id  \n",
       "15815  Oct 26, 2018       1    python  \n",
       "15840  Oct 26, 2018       1    python  \n",
       "15865  Oct 26, 2018       1    python  \n",
       "32599  Oct 26, 2018       5    python  \n",
       "32624  Oct 26, 2018       5    python  "
      ]
     },
     "execution_count": 35,
     "metadata": {},
     "output_type": "execute_result"
    }
   ],
   "source": [
    "dup_reviews[dup_reviews['date_reviews']=='Oct 26, 2018'].head(5)"
   ]
  },
  {
   "attachments": {},
   "cell_type": "markdown",
   "metadata": {},
   "source": [
    "Podemos ver que hay muchos duplicados, por lo que se procede a eliminarlos"
   ]
  },
  {
   "cell_type": "code",
   "execution_count": 36,
   "metadata": {},
   "outputs": [
    {
     "data": {
      "text/html": [
       "<div>\n",
       "<style scoped>\n",
       "    .dataframe tbody tr th:only-of-type {\n",
       "        vertical-align: middle;\n",
       "    }\n",
       "\n",
       "    .dataframe tbody tr th {\n",
       "        vertical-align: top;\n",
       "    }\n",
       "\n",
       "    .dataframe thead th {\n",
       "        text-align: right;\n",
       "    }\n",
       "</style>\n",
       "<table border=\"1\" class=\"dataframe\">\n",
       "  <thead>\n",
       "    <tr style=\"text-align: right;\">\n",
       "      <th></th>\n",
       "      <th>reviews</th>\n",
       "      <th>reviewers</th>\n",
       "      <th>date_reviews</th>\n",
       "      <th>rating</th>\n",
       "      <th>course_id</th>\n",
       "    </tr>\n",
       "  </thead>\n",
       "  <tbody>\n",
       "    <tr>\n",
       "      <th>0</th>\n",
       "      <td>Pretty dry, but I was able to pass with just t...</td>\n",
       "      <td>By Robert S</td>\n",
       "      <td>Feb 12, 2020</td>\n",
       "      <td>4</td>\n",
       "      <td>google-cbrs-cpi-training</td>\n",
       "    </tr>\n",
       "    <tr>\n",
       "      <th>1</th>\n",
       "      <td>would be a better experience if the video and ...</td>\n",
       "      <td>By Gabriel E R</td>\n",
       "      <td>Sep 28, 2020</td>\n",
       "      <td>4</td>\n",
       "      <td>google-cbrs-cpi-training</td>\n",
       "    </tr>\n",
       "    <tr>\n",
       "      <th>2</th>\n",
       "      <td>Information was perfect! The program itself wa...</td>\n",
       "      <td>By Jacob D</td>\n",
       "      <td>Apr 08, 2020</td>\n",
       "      <td>4</td>\n",
       "      <td>google-cbrs-cpi-training</td>\n",
       "    </tr>\n",
       "    <tr>\n",
       "      <th>3</th>\n",
       "      <td>A few grammatical mistakes on test made me do ...</td>\n",
       "      <td>By Dale B</td>\n",
       "      <td>Feb 24, 2020</td>\n",
       "      <td>4</td>\n",
       "      <td>google-cbrs-cpi-training</td>\n",
       "    </tr>\n",
       "    <tr>\n",
       "      <th>4</th>\n",
       "      <td>Excellent course and the training provided was...</td>\n",
       "      <td>By Sean G</td>\n",
       "      <td>Jun 18, 2020</td>\n",
       "      <td>4</td>\n",
       "      <td>google-cbrs-cpi-training</td>\n",
       "    </tr>\n",
       "    <tr>\n",
       "      <th>...</th>\n",
       "      <td>...</td>\n",
       "      <td>...</td>\n",
       "      <td>...</td>\n",
       "      <td>...</td>\n",
       "      <td>...</td>\n",
       "    </tr>\n",
       "    <tr>\n",
       "      <th>1454636</th>\n",
       "      <td>amazing</td>\n",
       "      <td>By FANISHA A A</td>\n",
       "      <td>Oct 10, 2020</td>\n",
       "      <td>5</td>\n",
       "      <td>computer-networking</td>\n",
       "    </tr>\n",
       "    <tr>\n",
       "      <th>1454639</th>\n",
       "      <td>great</td>\n",
       "      <td>By Ilona Y Z</td>\n",
       "      <td>Oct 07, 2020</td>\n",
       "      <td>5</td>\n",
       "      <td>computer-networking</td>\n",
       "    </tr>\n",
       "    <tr>\n",
       "      <th>1454642</th>\n",
       "      <td>Nice</td>\n",
       "      <td>By Aung T K</td>\n",
       "      <td>Oct 10, 2020</td>\n",
       "      <td>5</td>\n",
       "      <td>computer-networking</td>\n",
       "    </tr>\n",
       "    <tr>\n",
       "      <th>1454643</th>\n",
       "      <td>Good</td>\n",
       "      <td>By Anthony N S</td>\n",
       "      <td>Oct 08, 2020</td>\n",
       "      <td>5</td>\n",
       "      <td>computer-networking</td>\n",
       "    </tr>\n",
       "    <tr>\n",
       "      <th>1454644</th>\n",
       "      <td>good</td>\n",
       "      <td>By Kasirivu A K</td>\n",
       "      <td>Oct 07, 2020</td>\n",
       "      <td>5</td>\n",
       "      <td>computer-networking</td>\n",
       "    </tr>\n",
       "  </tbody>\n",
       "</table>\n",
       "<p>519947 rows × 5 columns</p>\n",
       "</div>"
      ],
      "text/plain": [
       "                                                   reviews        reviewers  \\\n",
       "0        Pretty dry, but I was able to pass with just t...      By Robert S   \n",
       "1        would be a better experience if the video and ...   By Gabriel E R   \n",
       "2        Information was perfect! The program itself wa...       By Jacob D   \n",
       "3        A few grammatical mistakes on test made me do ...        By Dale B   \n",
       "4        Excellent course and the training provided was...        By Sean G   \n",
       "...                                                    ...              ...   \n",
       "1454636                                            amazing   By FANISHA A A   \n",
       "1454639                                              great     By Ilona Y Z   \n",
       "1454642                                               Nice      By Aung T K   \n",
       "1454643                                               Good   By Anthony N S   \n",
       "1454644                                               good  By Kasirivu A K   \n",
       "\n",
       "         date_reviews  rating                 course_id  \n",
       "0        Feb 12, 2020       4  google-cbrs-cpi-training  \n",
       "1        Sep 28, 2020       4  google-cbrs-cpi-training  \n",
       "2        Apr 08, 2020       4  google-cbrs-cpi-training  \n",
       "3        Feb 24, 2020       4  google-cbrs-cpi-training  \n",
       "4        Jun 18, 2020       4  google-cbrs-cpi-training  \n",
       "...               ...     ...                       ...  \n",
       "1454636  Oct 10, 2020       5       computer-networking  \n",
       "1454639  Oct 07, 2020       5       computer-networking  \n",
       "1454642  Oct 10, 2020       5       computer-networking  \n",
       "1454643  Oct 08, 2020       5       computer-networking  \n",
       "1454644  Oct 07, 2020       5       computer-networking  \n",
       "\n",
       "[519947 rows x 5 columns]"
      ]
     },
     "execution_count": 36,
     "metadata": {},
     "output_type": "execute_result"
    }
   ],
   "source": [
    "reviews.drop_duplicates(inplace=True)\n",
    "reviews"
   ]
  },
  {
   "attachments": {},
   "cell_type": "markdown",
   "metadata": {},
   "source": [
    "Se fueron casi 2/3 de los datos que habían y eran redundantes"
   ]
  },
  {
   "attachments": {},
   "cell_type": "markdown",
   "metadata": {},
   "source": [
    "Ahora aguparemos por course_id para poder unir las calificaciones con el dataframe de coursera"
   ]
  },
  {
   "cell_type": "code",
   "execution_count": 37,
   "metadata": {},
   "outputs": [
    {
     "data": {
      "text/plain": [
       "course_id\n",
       "aboriginal-education                                        4.552239\n",
       "access-control-sscp                                         4.466667\n",
       "accounting-analytics                                        4.395299\n",
       "accounting-data-analytics-python                            3.500000\n",
       "actualizacion-manejo-diabetes-tipo-2                        4.845850\n",
       "                                                              ...   \n",
       "womens-health-human-rights                                  4.884298\n",
       "write-a-feature-length-screenplay-for-film-or-television    4.625000\n",
       "write-your-first-novel                                      3.850000\n",
       "writing-editing-words                                       4.742857\n",
       "writing-for-business                                        4.818742\n",
       "Name: rating, Length: 604, dtype: float64"
      ]
     },
     "execution_count": 37,
     "metadata": {},
     "output_type": "execute_result"
    }
   ],
   "source": [
    "# Agrupa por cada course_id único y le saca la media del rating\n",
    "ratings = reviews.groupby('course_id')['rating'].mean()\n",
    "ratings"
   ]
  },
  {
   "cell_type": "code",
   "execution_count": 38,
   "metadata": {},
   "outputs": [
    {
     "name": "stdout",
     "output_type": "stream",
     "text": [
      "4.552238805970149\n",
      "4.466666666666667\n"
     ]
    }
   ],
   "source": [
    "# Comprobamos que esté bien hecha la agrupación\n",
    "print(reviews[reviews['course_id']=='aboriginal-education']['rating'].mean())\n",
    "print(reviews[reviews['course_id']=='access-control-sscp']['rating'].mean())"
   ]
  },
  {
   "attachments": {},
   "cell_type": "markdown",
   "metadata": {},
   "source": [
    "Además, antes del merge también sacaremos cuántas valoraciones tiene cada curso"
   ]
  },
  {
   "cell_type": "code",
   "execution_count": 39,
   "metadata": {},
   "outputs": [
    {
     "data": {
      "text/plain": [
       "course_id\n",
       "aboriginal-education                                         67\n",
       "access-control-sscp                                          45\n",
       "accounting-analytics                                        468\n",
       "accounting-data-analytics-python                              8\n",
       "actualizacion-manejo-diabetes-tipo-2                        253\n",
       "                                                           ... \n",
       "womens-health-human-rights                                  242\n",
       "write-a-feature-length-screenplay-for-film-or-television     32\n",
       "write-your-first-novel                                       20\n",
       "writing-editing-words                                       105\n",
       "writing-for-business                                        811\n",
       "Name: rating, Length: 604, dtype: int64"
      ]
     },
     "execution_count": 39,
     "metadata": {},
     "output_type": "execute_result"
    }
   ],
   "source": [
    "reviews_count = reviews.groupby('course_id')['rating'].count()\n",
    "reviews_count"
   ]
  },
  {
   "attachments": {},
   "cell_type": "markdown",
   "metadata": {},
   "source": [
    "Procedemos a hacer el merge para tener el rating de los cursos"
   ]
  },
  {
   "cell_type": "code",
   "execution_count": 40,
   "metadata": {},
   "outputs": [
    {
     "data": {
      "text/html": [
       "<div>\n",
       "<style scoped>\n",
       "    .dataframe tbody tr th:only-of-type {\n",
       "        vertical-align: middle;\n",
       "    }\n",
       "\n",
       "    .dataframe tbody tr th {\n",
       "        vertical-align: top;\n",
       "    }\n",
       "\n",
       "    .dataframe thead th {\n",
       "        text-align: right;\n",
       "    }\n",
       "</style>\n",
       "<table border=\"1\" class=\"dataframe\">\n",
       "  <thead>\n",
       "    <tr style=\"text-align: right;\">\n",
       "      <th></th>\n",
       "      <th>name</th>\n",
       "      <th>institution</th>\n",
       "      <th>course_url</th>\n",
       "      <th>course_id</th>\n",
       "      <th>rating_x</th>\n",
       "      <th>rating_y</th>\n",
       "    </tr>\n",
       "  </thead>\n",
       "  <tbody>\n",
       "    <tr>\n",
       "      <th>0</th>\n",
       "      <td>Machine Learning</td>\n",
       "      <td>Stanford University</td>\n",
       "      <td>https://www.coursera.org/learn/machine-learning</td>\n",
       "      <td>machine-learning</td>\n",
       "      <td>4.739923</td>\n",
       "      <td>12677</td>\n",
       "    </tr>\n",
       "    <tr>\n",
       "      <th>1</th>\n",
       "      <td>Indigenous Canada</td>\n",
       "      <td>University of Alberta</td>\n",
       "      <td>https://www.coursera.org/learn/indigenous-canada</td>\n",
       "      <td>indigenous-canada</td>\n",
       "      <td>4.816438</td>\n",
       "      <td>1460</td>\n",
       "    </tr>\n",
       "    <tr>\n",
       "      <th>2</th>\n",
       "      <td>The Science of Well-Being</td>\n",
       "      <td>Yale University</td>\n",
       "      <td>https://www.coursera.org/learn/the-science-of-...</td>\n",
       "      <td>the-science-of-well-being</td>\n",
       "      <td>4.929504</td>\n",
       "      <td>8199</td>\n",
       "    </tr>\n",
       "    <tr>\n",
       "      <th>3</th>\n",
       "      <td>Technical Support Fundamentals</td>\n",
       "      <td>Google</td>\n",
       "      <td>https://www.coursera.org/learn/technical-suppo...</td>\n",
       "      <td>technical-support-fundamentals</td>\n",
       "      <td>4.767482</td>\n",
       "      <td>12055</td>\n",
       "    </tr>\n",
       "    <tr>\n",
       "      <th>4</th>\n",
       "      <td>Become a CBRS Certified Professional Installer...</td>\n",
       "      <td>Google - Spectrum Sharing</td>\n",
       "      <td>https://www.coursera.org/learn/google-cbrs-cpi...</td>\n",
       "      <td>google-cbrs-cpi-training</td>\n",
       "      <td>4.818182</td>\n",
       "      <td>33</td>\n",
       "    </tr>\n",
       "  </tbody>\n",
       "</table>\n",
       "</div>"
      ],
      "text/plain": [
       "                                                name  \\\n",
       "0                                   Machine Learning   \n",
       "1                                  Indigenous Canada   \n",
       "2                          The Science of Well-Being   \n",
       "3                     Technical Support Fundamentals   \n",
       "4  Become a CBRS Certified Professional Installer...   \n",
       "\n",
       "                 institution  \\\n",
       "0        Stanford University   \n",
       "1      University of Alberta   \n",
       "2            Yale University   \n",
       "3                     Google   \n",
       "4  Google - Spectrum Sharing   \n",
       "\n",
       "                                          course_url  \\\n",
       "0    https://www.coursera.org/learn/machine-learning   \n",
       "1   https://www.coursera.org/learn/indigenous-canada   \n",
       "2  https://www.coursera.org/learn/the-science-of-...   \n",
       "3  https://www.coursera.org/learn/technical-suppo...   \n",
       "4  https://www.coursera.org/learn/google-cbrs-cpi...   \n",
       "\n",
       "                        course_id  rating_x  rating_y  \n",
       "0                machine-learning  4.739923     12677  \n",
       "1               indigenous-canada  4.816438      1460  \n",
       "2       the-science-of-well-being  4.929504      8199  \n",
       "3  technical-support-fundamentals  4.767482     12055  \n",
       "4        google-cbrs-cpi-training  4.818182        33  "
      ]
     },
     "execution_count": 40,
     "metadata": {},
     "output_type": "execute_result"
    }
   ],
   "source": [
    "coursera_df = coursera_df.merge(ratings, on='course_id')\n",
    "coursera_df = coursera_df.merge(reviews_count, on='course_id')\n",
    "coursera_df.head(5)"
   ]
  },
  {
   "cell_type": "code",
   "execution_count": 41,
   "metadata": {},
   "outputs": [],
   "source": [
    "# Renombramos columnas para tener mayor consistencia en los datos\n",
    "coursera_df = coursera_df.rename(columns={'name': 'title', 'rating_x': 'rating', 'rating_y': 'reviews_count'})"
   ]
  },
  {
   "cell_type": "code",
   "execution_count": 42,
   "metadata": {},
   "outputs": [
    {
     "data": {
      "text/plain": [
       "count      604.000000\n",
       "mean       860.839404\n",
       "std       1608.604971\n",
       "min          1.000000\n",
       "25%        132.750000\n",
       "50%        387.500000\n",
       "75%        847.750000\n",
       "max      15226.000000\n",
       "Name: reviews_count, dtype: float64"
      ]
     },
     "execution_count": 42,
     "metadata": {},
     "output_type": "execute_result"
    }
   ],
   "source": [
    "coursera_df['reviews_count'].describe()"
   ]
  },
  {
   "attachments": {},
   "cell_type": "markdown",
   "metadata": {},
   "source": [
    "Buscaremos los 10 cursos mejor valorados de Coursera, pero que tengan mínimo unas 100 reviews"
   ]
  },
  {
   "cell_type": "code",
   "execution_count": 43,
   "metadata": {},
   "outputs": [
    {
     "data": {
      "text/html": [
       "<div>\n",
       "<style scoped>\n",
       "    .dataframe tbody tr th:only-of-type {\n",
       "        vertical-align: middle;\n",
       "    }\n",
       "\n",
       "    .dataframe tbody tr th {\n",
       "        vertical-align: top;\n",
       "    }\n",
       "\n",
       "    .dataframe thead th {\n",
       "        text-align: right;\n",
       "    }\n",
       "</style>\n",
       "<table border=\"1\" class=\"dataframe\">\n",
       "  <thead>\n",
       "    <tr style=\"text-align: right;\">\n",
       "      <th></th>\n",
       "      <th>title</th>\n",
       "      <th>rating</th>\n",
       "      <th>reviews_count</th>\n",
       "    </tr>\n",
       "  </thead>\n",
       "  <tbody>\n",
       "    <tr>\n",
       "      <th>353</th>\n",
       "      <td>El Abogado del Futuro: Legaltech y la Transfor...</td>\n",
       "      <td>4.968000</td>\n",
       "      <td>125</td>\n",
       "    </tr>\n",
       "    <tr>\n",
       "      <th>292</th>\n",
       "      <td>Bugs 101: Insect-Human Interactions</td>\n",
       "      <td>4.962963</td>\n",
       "      <td>297</td>\n",
       "    </tr>\n",
       "    <tr>\n",
       "      <th>132</th>\n",
       "      <td>Everyday Parenting: The ABCs of Child Rearing</td>\n",
       "      <td>4.929530</td>\n",
       "      <td>596</td>\n",
       "    </tr>\n",
       "    <tr>\n",
       "      <th>2</th>\n",
       "      <td>The Science of Well-Being</td>\n",
       "      <td>4.929504</td>\n",
       "      <td>8199</td>\n",
       "    </tr>\n",
       "    <tr>\n",
       "      <th>329</th>\n",
       "      <td>Understanding Medical Research: Your Facebook ...</td>\n",
       "      <td>4.925094</td>\n",
       "      <td>267</td>\n",
       "    </tr>\n",
       "    <tr>\n",
       "      <th>198</th>\n",
       "      <td>Addiction Treatment: Clinical Skills for Healt...</td>\n",
       "      <td>4.924812</td>\n",
       "      <td>133</td>\n",
       "    </tr>\n",
       "    <tr>\n",
       "      <th>199</th>\n",
       "      <td>Dino 101: Dinosaur Paleobiology</td>\n",
       "      <td>4.922148</td>\n",
       "      <td>745</td>\n",
       "    </tr>\n",
       "    <tr>\n",
       "      <th>335</th>\n",
       "      <td>In the Studio: Postwar Abstract Painting</td>\n",
       "      <td>4.921739</td>\n",
       "      <td>460</td>\n",
       "    </tr>\n",
       "    <tr>\n",
       "      <th>421</th>\n",
       "      <td>Revisão Sistemática e Meta-análise</td>\n",
       "      <td>4.921109</td>\n",
       "      <td>469</td>\n",
       "    </tr>\n",
       "    <tr>\n",
       "      <th>424</th>\n",
       "      <td>Aprendiendo a aprender: Poderosas herramientas...</td>\n",
       "      <td>4.919417</td>\n",
       "      <td>3090</td>\n",
       "    </tr>\n",
       "  </tbody>\n",
       "</table>\n",
       "</div>"
      ],
      "text/plain": [
       "                                                 title    rating  \\\n",
       "353  El Abogado del Futuro: Legaltech y la Transfor...  4.968000   \n",
       "292                Bugs 101: Insect-Human Interactions  4.962963   \n",
       "132      Everyday Parenting: The ABCs of Child Rearing  4.929530   \n",
       "2                            The Science of Well-Being  4.929504   \n",
       "329  Understanding Medical Research: Your Facebook ...  4.925094   \n",
       "198  Addiction Treatment: Clinical Skills for Healt...  4.924812   \n",
       "199                    Dino 101: Dinosaur Paleobiology  4.922148   \n",
       "335           In the Studio: Postwar Abstract Painting  4.921739   \n",
       "421                 Revisão Sistemática e Meta-análise  4.921109   \n",
       "424  Aprendiendo a aprender: Poderosas herramientas...  4.919417   \n",
       "\n",
       "     reviews_count  \n",
       "353            125  \n",
       "292            297  \n",
       "132            596  \n",
       "2             8199  \n",
       "329            267  \n",
       "198            133  \n",
       "199            745  \n",
       "335            460  \n",
       "421            469  \n",
       "424           3090  "
      ]
     },
     "execution_count": 43,
     "metadata": {},
     "output_type": "execute_result"
    }
   ],
   "source": [
    "coursera_sorted = coursera_df[['title', 'rating', 'reviews_count']].sort_values(by='rating', ascending=False)\n",
    "\n",
    "coursera_sorted = coursera_sorted[coursera_sorted['reviews_count'] > 100]\n",
    "coursera_sorted.head(10)"
   ]
  },
  {
   "attachments": {},
   "cell_type": "markdown",
   "metadata": {},
   "source": [
    "#### Nos encontramos con que el curso con mejor valoración es uno en español, además del décimo, de ahí hay unos 7 en inglés, y uno en portugés"
   ]
  },
  {
   "cell_type": "code",
   "execution_count": 44,
   "metadata": {},
   "outputs": [
    {
     "name": "stdout",
     "output_type": "stream",
     "text": [
      "132\n",
      "institution\n",
      "(ISC)²                                      4.466667\n",
      "Advancing Women in Product                  4.600000\n",
      "Alberta Machine Intelligence Institute      4.569660\n",
      "Amazon Web Services                         4.514876\n",
      "American Museum of Natural History          4.734177\n",
      "                                              ...   \n",
      "Yale University                             4.864901\n",
      "Yandex                                      3.484127\n",
      "Yonsei University                           4.883041\n",
      "École Polytechnique                         4.845122\n",
      "École Polytechnique Fédérale de Lausanne    4.656879\n",
      "Name: rating, Length: 132, dtype: float64\n"
     ]
    }
   ],
   "source": [
    "# Continuando el análisis\n",
    "print(len(coursera_df.groupby('institution')['rating'].mean()))\n",
    "print(coursera_df.groupby('institution')['rating'].mean())"
   ]
  },
  {
   "attachments": {},
   "cell_type": "markdown",
   "metadata": {},
   "source": [
    "Procedemos a buscar correlaciones en el dataset, agrupándolos con la función creada para explorar EDX"
   ]
  },
  {
   "cell_type": "code",
   "execution_count": 45,
   "metadata": {},
   "outputs": [],
   "source": [
    "# Utilizamos type institution que creamos para edx\n",
    "coursera_df['type_ins'] = coursera_df['institution'].apply(type_institution)"
   ]
  },
  {
   "attachments": {},
   "cell_type": "markdown",
   "metadata": {},
   "source": [
    "Procedemos a graficar el tipo de instituto y su relación con el rating"
   ]
  },
  {
   "cell_type": "code",
   "execution_count": 46,
   "metadata": {},
   "outputs": [],
   "source": [
    "rating_mean_by_institution = coursera_df.groupby('type_ins')['rating'].mean()"
   ]
  },
  {
   "cell_type": "code",
   "execution_count": 47,
   "metadata": {},
   "outputs": [
    {
     "data": {
      "image/png": "[encoded data removed]",
      "text/plain": [
       "<Figure size 1000x600 with 1 Axes>"
      ]
     },
     "metadata": {},
     "output_type": "display_data"
    }
   ],
   "source": [
    "plt.figure(figsize=(10, 6))\n",
    "rating_mean_by_institution.plot(kind='bar')\n",
    "\n",
    "plt.title('Promedio del Rating por Instituciones')\n",
    "plt.ylim(4.4, 4.8)\n",
    "plt.yticks([4.5, 4.55, 4.6, 4.65, 4.7, 4.75])\n",
    "plt.ylabel('Promedio del Rating')\n",
    "plt.xlabel('Instituciones')\n",
    "\n",
    "plt.show()"
   ]
  },
  {
   "attachments": {},
   "cell_type": "markdown",
   "metadata": {},
   "source": [
    "En esta gráfica podemos ver que University tiene un promedio ligeramente mayor a los institutos y otras instituciones de enseñanza"
   ]
  },
  {
   "attachments": {},
   "cell_type": "markdown",
   "metadata": {},
   "source": [
    "Vemos cuántos cursos tiene cada tipo de institución"
   ]
  },
  {
   "cell_type": "code",
   "execution_count": 48,
   "metadata": {},
   "outputs": [
    {
     "data": {
      "text/plain": [
       "University    458\n",
       "Other         128\n",
       "Institute      18\n",
       "Name: type_ins, dtype: int64"
      ]
     },
     "execution_count": 48,
     "metadata": {},
     "output_type": "execute_result"
    }
   ],
   "source": [
    "coursera_df['type_ins'].value_counts()"
   ]
  },
  {
   "attachments": {},
   "cell_type": "markdown",
   "metadata": {},
   "source": [
    "Por último sacamos la proporción de votos respecto al tipo de institución"
   ]
  },
  {
   "cell_type": "code",
   "execution_count": 49,
   "metadata": {},
   "outputs": [
    {
     "data": {
      "text/plain": [
       "Institute      815.833333\n",
       "Other         1038.257812\n",
       "University     813.024017\n",
       "dtype: float64"
      ]
     },
     "execution_count": 49,
     "metadata": {},
     "output_type": "execute_result"
    }
   ],
   "source": [
    "coursera_df.groupby('type_ins')['reviews_count'].sum() / coursera_df['type_ins'].value_counts()"
   ]
  },
  {
   "attachments": {},
   "cell_type": "markdown",
   "metadata": {},
   "source": [
    "Hemos visto que 'otros' tiene una calificación ligeramente inferior a las otras instituciones, pero así mismo tienen más de 200 votos en promedio que las anteriores, así que buscamos correlación."
   ]
  },
  {
   "cell_type": "code",
   "execution_count": 50,
   "metadata": {},
   "outputs": [
    {
     "data": {
      "text/plain": [
       "<Figure size 1000x600 with 0 Axes>"
      ]
     },
     "metadata": {},
     "output_type": "display_data"
    },
    {
     "data": {
      "image/png": "[encoded data removed]",
      "text/plain": [
       "<Figure size 640x480 with 1 Axes>"
      ]
     },
     "metadata": {},
     "output_type": "display_data"
    }
   ],
   "source": [
    "# Buscando la correlación entre el rating y la cantidad de votos\n",
    "plt.figure(figsize=(10, 6))\n",
    "\n",
    "coursera_df[['reviews_count', 'rating']].plot(x='reviews_count', y='rating', kind='scatter')\n",
    "\n",
    "plt.title('Rating por Cantidad de votos')\n",
    "plt.ylabel('Rating')\n",
    "plt.xlabel('Cantidad de votos')\n",
    "\n",
    "plt.show()"
   ]
  },
  {
   "attachments": {},
   "cell_type": "markdown",
   "metadata": {},
   "source": [
    "Si bien entre 12000 y 14000 votos se puede observar que el rating empieza a decaer, no se puede saber con certeza si estas variables están correlacionadas, ya que más del 90% de los datos se encuentran entre 1 y 4000 votos"
   ]
  },
  {
   "attachments": {},
   "cell_type": "markdown",
   "metadata": {},
   "source": [
    "#### En conclusión, podemos decir que en Coursera hay muchos más cursos impartidos por universidades, estos también son los mejor valorados. También podemos observar que 'otros' tiene una calificación ligeramente inferior a las universidades e institutos"
   ]
  }
 ],
 "metadata": {
  "kernelspec": {
   "display_name": "pi2",
   "language": "python",
   "name": "python3"
  },
  "language_info": {
   "codemirror_mode": {
    "name": "ipython",
    "version": 3
   },
   "file_extension": ".py",
   "mimetype": "text/x-python",
   "name": "python",
   "nbconvert_exporter": "python",
   "pygments_lexer": "ipython3",
   "version": "3.9.16"
  },
  "orig_nbformat": 4
 },
 "nbformat": 4,
 "nbformat_minor": 2
}
